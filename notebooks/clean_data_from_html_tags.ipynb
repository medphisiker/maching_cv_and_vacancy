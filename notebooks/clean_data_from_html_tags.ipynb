{
 "cells": [
  {
   "cell_type": "code",
   "execution_count": 11,
   "metadata": {},
   "outputs": [],
   "source": [
    "import pandas as pd"
   ]
  },
  {
   "cell_type": "code",
   "execution_count": 12,
   "metadata": {},
   "outputs": [
    {
     "data": {
      "text/plain": [
       "'/home/admin-gpu/Downloads/maching_cv_and_vacancy/notebooks'"
      ]
     },
     "execution_count": 12,
     "metadata": {},
     "output_type": "execute_result"
    }
   ],
   "source": [
    "import os\n",
    "\n",
    "os.getcwd()"
   ]
  },
  {
   "cell_type": "code",
   "execution_count": 13,
   "metadata": {},
   "outputs": [],
   "source": [
    "df = pd.read_csv(\"../data/raw/hhparser_vacancy.csv\")"
   ]
  },
  {
   "cell_type": "code",
   "execution_count": 14,
   "metadata": {},
   "outputs": [
    {
     "data": {
      "text/html": [
       "<div>\n",
       "<style scoped>\n",
       "    .dataframe tbody tr th:only-of-type {\n",
       "        vertical-align: middle;\n",
       "    }\n",
       "\n",
       "    .dataframe tbody tr th {\n",
       "        vertical-align: top;\n",
       "    }\n",
       "\n",
       "    .dataframe thead th {\n",
       "        text-align: right;\n",
       "    }\n",
       "</style>\n",
       "<table border=\"1\" class=\"dataframe\">\n",
       "  <thead>\n",
       "    <tr style=\"text-align: right;\">\n",
       "      <th></th>\n",
       "      <th>id</th>\n",
       "      <th>name</th>\n",
       "      <th>has_test</th>\n",
       "      <th>response_letter_required</th>\n",
       "      <th>salary_from</th>\n",
       "      <th>salary_to</th>\n",
       "      <th>salary_currency</th>\n",
       "      <th>salary_gross</th>\n",
       "      <th>published_at</th>\n",
       "      <th>created_at</th>\n",
       "      <th>parsed_at</th>\n",
       "      <th>url</th>\n",
       "      <th>employer_name</th>\n",
       "      <th>description</th>\n",
       "      <th>alternate_url</th>\n",
       "      <th>area_id</th>\n",
       "      <th>area_name</th>\n",
       "    </tr>\n",
       "  </thead>\n",
       "  <tbody>\n",
       "    <tr>\n",
       "      <th>0</th>\n",
       "      <td>38228194</td>\n",
       "      <td>Project R’n’D / Технолог R’n’D</td>\n",
       "      <td>False</td>\n",
       "      <td>True</td>\n",
       "      <td>NaN</td>\n",
       "      <td>NaN</td>\n",
       "      <td>NaN</td>\n",
       "      <td>NaN</td>\n",
       "      <td>2020-07-26 23:40:42+00</td>\n",
       "      <td>2020-07-26 23:40:42+00</td>\n",
       "      <td>2020-07-27 03:03:03.154874+00</td>\n",
       "      <td>https://api.hh.ru/vacancies/38228194?host=hh.ru</td>\n",
       "      <td>Масл фектори</td>\n",
       "      <td>&lt;p&gt;&lt;strong&gt;MF Kitchen&lt;/strong&gt; — группа компан...</td>\n",
       "      <td>https://hh.ru/vacancy/38228194</td>\n",
       "      <td>1</td>\n",
       "      <td>Москва</td>\n",
       "    </tr>\n",
       "    <tr>\n",
       "      <th>1</th>\n",
       "      <td>36911636</td>\n",
       "      <td>Продавец-кассир (Москва, Богданова, 16)</td>\n",
       "      <td>False</td>\n",
       "      <td>False</td>\n",
       "      <td>33500.0</td>\n",
       "      <td>40000.0</td>\n",
       "      <td>RUR</td>\n",
       "      <td>True</td>\n",
       "      <td>2020-07-27 00:28:12+00</td>\n",
       "      <td>2020-07-27 00:28:12+00</td>\n",
       "      <td>2020-07-27 03:03:04.258759+00</td>\n",
       "      <td>https://api.hh.ru/vacancies/36911636?host=hh.ru</td>\n",
       "      <td>Пятёрочка</td>\n",
       "      <td>&lt;p&gt;&lt;strong&gt;Обязанности:&lt;/strong&gt;&lt;/p&gt;&lt;ul&gt;&lt;li&gt;Об...</td>\n",
       "      <td>https://hh.ru/vacancy/36911636</td>\n",
       "      <td>1</td>\n",
       "      <td>Москва</td>\n",
       "    </tr>\n",
       "    <tr>\n",
       "      <th>2</th>\n",
       "      <td>36909000</td>\n",
       "      <td>Продавец-кассир (Москва, Новогиреевская, 11/36)</td>\n",
       "      <td>False</td>\n",
       "      <td>False</td>\n",
       "      <td>33500.0</td>\n",
       "      <td>38000.0</td>\n",
       "      <td>RUR</td>\n",
       "      <td>True</td>\n",
       "      <td>2020-08-24 00:16:48+00</td>\n",
       "      <td>2020-08-24 00:16:48+00</td>\n",
       "      <td>2020-08-24 02:59:43.766137+00</td>\n",
       "      <td>https://api.hh.ru/vacancies/36909000?host=hh.ru</td>\n",
       "      <td>Пятёрочка</td>\n",
       "      <td>&lt;p&gt;&lt;strong&gt;Обязанности:&lt;/strong&gt;&lt;/p&gt;&lt;ul&gt;&lt;li&gt;Об...</td>\n",
       "      <td>https://hh.ru/vacancy/36909000</td>\n",
       "      <td>1</td>\n",
       "      <td>Москва</td>\n",
       "    </tr>\n",
       "    <tr>\n",
       "      <th>3</th>\n",
       "      <td>38985954</td>\n",
       "      <td>Product owner бизнес–стрима \"Аналитика и Отчет...</td>\n",
       "      <td>False</td>\n",
       "      <td>False</td>\n",
       "      <td>NaN</td>\n",
       "      <td>NaN</td>\n",
       "      <td>NaN</td>\n",
       "      <td>NaN</td>\n",
       "      <td>2020-09-08 18:29:25+00</td>\n",
       "      <td>2020-09-08 18:29:25+00</td>\n",
       "      <td>2020-09-08 19:02:47.261747+00</td>\n",
       "      <td>https://api.hh.ru/vacancies/38985954?host=hh.ru</td>\n",
       "      <td>Банк ВТБ (ПАО)</td>\n",
       "      <td>&lt;p&gt;Наша позиция предполагает участие в програм...</td>\n",
       "      <td>https://hh.ru/vacancy/38985954</td>\n",
       "      <td>1</td>\n",
       "      <td>Москва</td>\n",
       "    </tr>\n",
       "    <tr>\n",
       "      <th>4</th>\n",
       "      <td>40108800</td>\n",
       "      <td>Business Development Director (CTO)</td>\n",
       "      <td>False</td>\n",
       "      <td>False</td>\n",
       "      <td>NaN</td>\n",
       "      <td>NaN</td>\n",
       "      <td>NaN</td>\n",
       "      <td>NaN</td>\n",
       "      <td>2020-11-25 08:56:45+00</td>\n",
       "      <td>2020-11-25 08:56:45+00</td>\n",
       "      <td>2020-11-28 06:59:37.872153+00</td>\n",
       "      <td>https://api.hh.ru/vacancies/40108800?host=hh.ru</td>\n",
       "      <td>Студия Олега Чулакова</td>\n",
       "      <td>&lt;p&gt;Студия Олега Чулакова — это дизайн-студия №...</td>\n",
       "      <td>https://hh.ru/vacancy/40108800</td>\n",
       "      <td>1</td>\n",
       "      <td>Москва</td>\n",
       "    </tr>\n",
       "  </tbody>\n",
       "</table>\n",
       "</div>"
      ],
      "text/plain": [
       "         id                                               name  has_test  \\\n",
       "0  38228194                     Project R’n’D / Технолог R’n’D     False   \n",
       "1  36911636            Продавец-кассир (Москва, Богданова, 16)     False   \n",
       "2  36909000    Продавец-кассир (Москва, Новогиреевская, 11/36)     False   \n",
       "3  38985954  Product owner бизнес–стрима \"Аналитика и Отчет...     False   \n",
       "4  40108800                Business Development Director (CTO)     False   \n",
       "\n",
       "   response_letter_required  salary_from  salary_to salary_currency  \\\n",
       "0                      True          NaN        NaN             NaN   \n",
       "1                     False      33500.0    40000.0             RUR   \n",
       "2                     False      33500.0    38000.0             RUR   \n",
       "3                     False          NaN        NaN             NaN   \n",
       "4                     False          NaN        NaN             NaN   \n",
       "\n",
       "  salary_gross            published_at              created_at  \\\n",
       "0          NaN  2020-07-26 23:40:42+00  2020-07-26 23:40:42+00   \n",
       "1         True  2020-07-27 00:28:12+00  2020-07-27 00:28:12+00   \n",
       "2         True  2020-08-24 00:16:48+00  2020-08-24 00:16:48+00   \n",
       "3          NaN  2020-09-08 18:29:25+00  2020-09-08 18:29:25+00   \n",
       "4          NaN  2020-11-25 08:56:45+00  2020-11-25 08:56:45+00   \n",
       "\n",
       "                       parsed_at  \\\n",
       "0  2020-07-27 03:03:03.154874+00   \n",
       "1  2020-07-27 03:03:04.258759+00   \n",
       "2  2020-08-24 02:59:43.766137+00   \n",
       "3  2020-09-08 19:02:47.261747+00   \n",
       "4  2020-11-28 06:59:37.872153+00   \n",
       "\n",
       "                                               url          employer_name  \\\n",
       "0  https://api.hh.ru/vacancies/38228194?host=hh.ru           Масл фектори   \n",
       "1  https://api.hh.ru/vacancies/36911636?host=hh.ru              Пятёрочка   \n",
       "2  https://api.hh.ru/vacancies/36909000?host=hh.ru              Пятёрочка   \n",
       "3  https://api.hh.ru/vacancies/38985954?host=hh.ru         Банк ВТБ (ПАО)   \n",
       "4  https://api.hh.ru/vacancies/40108800?host=hh.ru  Студия Олега Чулакова   \n",
       "\n",
       "                                         description  \\\n",
       "0  <p><strong>MF Kitchen</strong> — группа компан...   \n",
       "1  <p><strong>Обязанности:</strong></p><ul><li>Об...   \n",
       "2  <p><strong>Обязанности:</strong></p><ul><li>Об...   \n",
       "3  <p>Наша позиция предполагает участие в програм...   \n",
       "4  <p>Студия Олега Чулакова — это дизайн-студия №...   \n",
       "\n",
       "                    alternate_url  area_id area_name  \n",
       "0  https://hh.ru/vacancy/38228194        1    Москва  \n",
       "1  https://hh.ru/vacancy/36911636        1    Москва  \n",
       "2  https://hh.ru/vacancy/36909000        1    Москва  \n",
       "3  https://hh.ru/vacancy/38985954        1    Москва  \n",
       "4  https://hh.ru/vacancy/40108800        1    Москва  "
      ]
     },
     "execution_count": 14,
     "metadata": {},
     "output_type": "execute_result"
    }
   ],
   "source": [
    "df.head(5)"
   ]
  },
  {
   "cell_type": "code",
   "execution_count": 15,
   "metadata": {},
   "outputs": [
    {
     "data": {
      "text/plain": [
       "'<p><strong>MF Kitchen</strong> — группа компаний, занимающаяся развитием единой платформы, цель которой — забрать вопрос еды на себя и помочь нашим клиентам заниматься своими любимыми делами, освободив себя от походов по магазинам, готовки и мытья посуды. Платформа поделена на несколько направлений, в каждом из которых независимые продуктовые команды с взаимными интеграциями.</p> <p>А именно: <strong>MF</strong> — e-com платформа, объединяющая в себе су-бренды Kitchen, Cook и Chef- сервисы по подписке на разноплановое питание. <strong>Trend</strong><strong> </strong><strong>by</strong><strong> </strong><strong>MF</strong>- розничная сеть кафе быстрого здорового питания, объединяющая офлайн и онлайн продажи и коммуникации с клиентом.</p> <p>Если ты веришь, что здоровое питание меняет мир к лучшему, хочешь стремительного развития в команде таких же профессионалов и не боишься нетривиальных задач — возможно, нам с тобой по пути.</p> <p> </p> <p>Обязанности:</p> <p>- Контролировать и координировать проекты по разработке новых блюд в соответствии с концепцией и требованиями фабрики-кухни, развивать существующие.</p> <p>- Проведение дегустаций и презентаций, а также фотосессий блюд.</p> <p>- Анализ полученных данных после дегустационных мероприятий.</p> <p>- Выстраивать коммуникации внутри команды, а также между заказчиками и разработчиками.</p> <p>- Анализировать конкурентные продукты для совершенствования собственных.</p> <p>- Соблюдать сроки и качество выполнения задач, детализировать их.</p> <p>- Искать наиболее оптимальные пути решения задач.</p> <p>- Выставлять приоритеты по текущим задачам.</p> <p>- Работать в связке со всеми отделами ( Производство, Технологический отдел, Продажи, PR).</p> <p> </p> <p>Требования:</p> <p>- Знание методик сбора, анализа и описания продукта.</p> <p>- Умение быстро реагировать и работать в режиме многозадачности.</p> <p>- Аналитический склад ума.</p> <p>- Знание современных тенденций здорового питания, расчет КБЖУ.</p> <p>- Понимание диетологии.</p> <p>- Классные коммуникативные навыки.</p> <p>- Готовность принимать решения и брать на себя ответственность за результаты.</p> <p> </p> <p>Условия:</p> <p>- Оформление по ТК РФ.</p> <p>- Интересные задачи, профессиональный рост.</p> <p>- м. Павелецкая.</p> <p>- Достойная З/П (обсуждается с успешным кандидатом)</p> <p>- График 5/2.</p>'"
      ]
     },
     "execution_count": 15,
     "metadata": {},
     "output_type": "execute_result"
    }
   ],
   "source": [
    "text = df[\"description\"].head(5)[0]\n",
    "text"
   ]
  },
  {
   "cell_type": "code",
   "execution_count": 16,
   "metadata": {},
   "outputs": [],
   "source": [
    "from lxml import etree\n",
    "\n",
    "def remove_html_tags(text):\n",
    "    parser = etree.HTMLParser()\n",
    "    tree = etree.fromstring(text, parser)\n",
    "    return etree.tostring(tree, encoding='unicode', method='text')"
   ]
  },
  {
   "cell_type": "code",
   "execution_count": 17,
   "metadata": {},
   "outputs": [
    {
     "data": {
      "text/plain": [
       "'MF Kitchen — группа компаний, занимающаяся развитием единой платформы, цель которой — забрать вопрос еды на себя и помочь нашим клиентам заниматься своими любимыми делами, освободив себя от походов по магазинам, готовки и мытья посуды. Платформа поделена на несколько направлений, в каждом из которых независимые продуктовые команды с взаимными интеграциями. А именно: MF — e-com платформа, объединяющая в себе су-бренды Kitchen, Cook и Chef- сервисы по подписке на разноплановое питание. Trend by MF- розничная сеть кафе быстрого здорового питания, объединяющая офлайн и онлайн продажи и коммуникации с клиентом. Если ты веришь, что здоровое питание меняет мир к лучшему, хочешь стремительного развития в команде таких же профессионалов и не боишься нетривиальных задач — возможно, нам с тобой по пути.   Обязанности: - Контролировать и координировать проекты по разработке новых блюд в соответствии с концепцией и требованиями фабрики-кухни, развивать существующие. - Проведение дегустаций и презентаций, а также фотосессий блюд. - Анализ полученных данных после дегустационных мероприятий. - Выстраивать коммуникации внутри команды, а также между заказчиками и разработчиками. - Анализировать конкурентные продукты для совершенствования собственных. - Соблюдать сроки и качество выполнения задач, детализировать их. - Искать наиболее оптимальные пути решения задач. - Выставлять приоритеты по текущим задачам. - Работать в связке со всеми отделами ( Производство, Технологический отдел, Продажи, PR).   Требования: - Знание методик сбора, анализа и описания продукта. - Умение быстро реагировать и работать в режиме многозадачности. - Аналитический склад ума. - Знание современных тенденций здорового питания, расчет КБЖУ. - Понимание диетологии. - Классные коммуникативные навыки. - Готовность принимать решения и брать на себя ответственность за результаты.   Условия: - Оформление по ТК РФ. - Интересные задачи, профессиональный рост. - м. Павелецкая. - Достойная З/П (обсуждается с успешным кандидатом) - График 5/2.'"
      ]
     },
     "execution_count": 17,
     "metadata": {},
     "output_type": "execute_result"
    }
   ],
   "source": [
    "remove_html_tags(text)"
   ]
  }
 ],
 "metadata": {
  "kernelspec": {
   "display_name": "matching-cv-and-vacancy-puXJ-yPr-py3.10",
   "language": "python",
   "name": "python3"
  },
  "language_info": {
   "codemirror_mode": {
    "name": "ipython",
    "version": 3
   },
   "file_extension": ".py",
   "mimetype": "text/x-python",
   "name": "python",
   "nbconvert_exporter": "python",
   "pygments_lexer": "ipython3",
   "version": "3.10.11"
  }
 },
 "nbformat": 4,
 "nbformat_minor": 2
}
